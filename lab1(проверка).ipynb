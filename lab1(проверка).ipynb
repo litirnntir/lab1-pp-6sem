{
 "cells": [
  {
   "cell_type": "code",
   "execution_count": 16,
   "metadata": {},
   "outputs": [
    {
     "name": "stdout",
     "output_type": "stream",
     "text": [
      "Матрица 1:\n",
      " [[ 8 93 99]\n",
      " [15  1 44]]\n",
      "Матрица 2:\n",
      " [[81 55]\n",
      " [47 34]\n",
      " [99 48]]\n",
      "Матрицы перемножены успешно, и результат записан в файл 'result_matrix.txt'.\n",
      "Result:\n",
      " [[14820  8354]\n",
      " [ 5618  2971]]\n"
     ]
    }
   ],
   "source": [
    "import numpy as np\n",
    "\n",
    "def read_matrix_from_file(file_path):\n",
    "    with open(file_path, 'r') as file:\n",
    "        lines = file.readlines()\n",
    "        rows, cols = map(int, lines[0].split())\n",
    "        matrix = np.array([list(map(int, line.split())) for line in lines[1:]])\n",
    "\n",
    "    return matrix\n",
    "\n",
    "# Чтение матриц из файлов\n",
    "matrix1 = read_matrix_from_file(r'C:\\\\Users\\\\esh20\\\\OneDrive\\\\Рабочий стол\\\\HTML+MATH\\\\Uvarov-Nikita-6313-100503D-Lab1\\\\ParallProg\\\\matrix1.txt')\n",
    "matrix2 = read_matrix_from_file(r'C:\\\\Users\\\\esh20\\\\OneDrive\\\\Рабочий стол\\\\HTML+MATH\\\\Uvarov-Nikita-6313-100503D-Lab1\\\\ParallProg\\\\matrix2.txt')\n",
    "\n",
    "print(\"Матрица 1:\\n\", matrix1)\n",
    "print(\"Матрица 2:\\n\", matrix2)\n",
    "\n",
    "def write_matrix_to_file(file_path, matrix):\n",
    "    with open(file_path, 'w') as file:\n",
    "        file.write(f\"{len(matrix)} {len(matrix[0])}\\n\")\n",
    "        for row in matrix:\n",
    "            file.write(' '.join(map(str, row)) + '\\n')\n",
    "\n",
    "\n",
    "# Умножение матриц\n",
    "result_matrix = np.matmul(matrix1, matrix2)\n",
    "\n",
    "# Запись результата в файл\n",
    "write_matrix_to_file('result_matrix.txt', result_matrix)\n",
    "\n",
    "print(\"Матрицы перемножены успешно, и результат записан в файл 'result_matrix.txt'.\")\n",
    "print(\"Result:\\n\", result_matrix)"
   ]
  }
 ],
 "metadata": {
  "kernelspec": {
   "display_name": "Python 3",
   "language": "python",
   "name": "python3"
  },
  "language_info": {
   "codemirror_mode": {
    "name": "ipython",
    "version": 3
   },
   "file_extension": ".py",
   "mimetype": "text/x-python",
   "name": "python",
   "nbconvert_exporter": "python",
   "pygments_lexer": "ipython3",
   "version": "3.11.3"
  }
 },
 "nbformat": 4,
 "nbformat_minor": 2
}
