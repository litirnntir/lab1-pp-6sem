{
  "cells": [
    {
      "cell_type": "code",
      "execution_count": 2,
      "metadata": {
        "colab": {
          "base_uri": "https://localhost:8080/"
        },
        "id": "ZqbzjXd0RIto",
        "outputId": "905d2431-6c96-464e-9d45-03409faf2af7"
      },
      "outputs": [
        {
          "output_type": "stream",
          "name": "stdout",
          "text": [
            "Матрица 1:\n",
            " [[39 50 96 90  1 15 18 17 60 59]\n",
            " [89 12 59 25 37 95 23 71 24 28]\n",
            " [80 34 59 52 51  5  6  2 31 42]\n",
            " [38 89 97 52 52 47  9 96 21 49]\n",
            " [57 93 71 63 94 90 91 86 60 19]\n",
            " [94  1 39 70  4 91 87 23 59 18]\n",
            " [26 45 41 51 17  8 99 48 24 98]\n",
            " [61 40  5 64 71 42 31 77 92 75]\n",
            " [94 45  9 88 37 59 57 78 30 59]\n",
            " [26 34  8 57 89 15 34  6  4 10]]\n",
            "Матрица 2:\n",
            " [[ 26  99  98  29  24  75   3  72   6  57]\n",
            " [ 53  98  89  89  77  82  70  42  77  88]\n",
            " [ 14  57  48  77   9  10  23   9  75  60]\n",
            " [ 84  52  65  83  35   2  88  97  92  13]\n",
            " [ 69  64  72  49  63  68  31  70  78  39]\n",
            " [ 31  58   1  69  91  56  97  60  96  19]\n",
            " [ 78  97  53  10  54  88  83  64  52 100]\n",
            " [ 22  45  81  30   7  73  87  22  71  90]\n",
            " [ 37  63  13  25  31  90  71  12  74  17]\n",
            " [ 41  80  31  99  90  90  95  29  94  87]]\n",
            "Матрицы перемножены успешно, и результат записан в файл 'result_matrix.txt'.\n",
            "Result:\n",
            " [[19519 30858 23757 29558 18489 22608 28069 19429 33211 23360]\n",
            " [16766 31706 25156 24367 20445 28022 27476 22292 30834 24776]\n",
            " [16131 26858 22940 22102 15636 20474 17482 18651 23461 18813]\n",
            " [22076 37207 33517 34945 24230 31490 34567 23212 41152 33575]\n",
            " [33962 51313 41382 38313 34571 45565 46602 35727 51660 41401]\n",
            " [22233 35432 23901 22920 21975 29295 31481 26995 31269 23920]\n",
            " [23024 34640 25553 26266 23288 30952 33369 21270 33026 32534]\n",
            " [25944 38820 30493 29748 26939 38592 37934 26772 40216 29815]\n",
            " [26420 40244 33650 30113 26446 35546 37505 30840 37618 31929]\n",
            " [17326 20512 18736 16133 15183 16514 16450 18677 20430 14329]]\n"
          ]
        }
      ],
      "source": [
        "import numpy as np\n",
        "\n",
        "RESULT_PATH = \"result_matrix.txt\"\n",
        "MATRIX1_PATH = \"matrix1.txt\"\n",
        "MATRIX2_PATH = \"matrix2.txt\"\n",
        "\n",
        "\n",
        "\n",
        "matrix1 = np.loadtxt(MATRIX1_PATH, int, skiprows=1)\n",
        "matrix2 = np.loadtxt(MATRIX2_PATH, int, skiprows=1)\n",
        "result_matrix = np.loadtxt(RESULT_PATH, int, skiprows=1)\n",
        "\n",
        "\n",
        "# Чтение матриц из файлов\n",
        "\n",
        "\n",
        "print(\"Матрица 1:\\n\", matrix1)\n",
        "print(\"Матрица 2:\\n\", matrix2)\n",
        "\n",
        "def write_matrix_to_file(file_path, matrix):\n",
        "    with open(file_path, 'w') as file:\n",
        "        file.write(f\"{len(matrix)} {len(matrix[0])}\\n\")\n",
        "        for row in matrix:\n",
        "            file.write(' '.join(map(str, row)) + '\\n')\n",
        "\n",
        "\n",
        "# Умножение матриц\n",
        "result_matrix = np.matmul(matrix1, matrix2)\n",
        "\n",
        "# Запись результата в файл\n",
        "write_matrix_to_file('result_matrix.txt', result_matrix)\n",
        "\n",
        "print(\"Матрицы перемножены успешно, и результат записан в файл 'result_matrix.txt'.\")\n",
        "print(\"Result:\\n\", result_matrix)"
      ]
    }
  ],
  "metadata": {
    "kernelspec": {
      "display_name": "Python 3",
      "language": "python",
      "name": "python3"
    },
    "language_info": {
      "codemirror_mode": {
        "name": "ipython",
        "version": 3
      },
      "file_extension": ".py",
      "mimetype": "text/x-python",
      "name": "python",
      "nbconvert_exporter": "python",
      "pygments_lexer": "ipython3",
      "version": "3.11.3"
    },
    "colab": {
      "provenance": []
    }
  },
  "nbformat": 4,
  "nbformat_minor": 0
}